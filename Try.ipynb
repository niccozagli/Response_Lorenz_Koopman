{
 "cells": [
  {
   "cell_type": "code",
   "execution_count": 1,
   "metadata": {},
   "outputs": [],
   "source": [
    "from LorenzEDMD.dynamical_system.Lorenz import lorenz63\n",
    "from LorenzEDMD.EDMD.EDMD import EDMD_CHEB\n",
    "from LorenzEDMD.utils.data_processing import normalise_data_chebyshev , get_spectral_properties\n",
    "from LorenzEDMD.utils.load_config import get_edmd_settings\n",
    "from matplotlib import pyplot as plt\n",
    "import numpy as np"
   ]
  },
  {
   "cell_type": "code",
   "execution_count": 2,
   "metadata": {},
   "outputs": [
    {
     "name": "stderr",
     "output_type": "stream",
     "text": [
      "100%|██████████| 20000000/20000000 [02:26<00:00, 136634.37it/s]\n"
     ]
    }
   ],
   "source": [
    "lorenz = lorenz63()\n",
    "t , X = lorenz.integrate_EM()"
   ]
  },
  {
   "cell_type": "code",
   "execution_count": 3,
   "metadata": {},
   "outputs": [],
   "source": [
    "scaled_data, data_min, data_max = normalise_data_chebyshev(X)"
   ]
  },
  {
   "cell_type": "code",
   "execution_count": 4,
   "metadata": {},
   "outputs": [
    {
     "name": "stderr",
     "output_type": "stream",
     "text": [
      "EDMD: 100%|██████████| 994999/994999 [22:14<00:00, 745.75it/s]\n",
      "EDMD: 100%|██████████| 994999/994999 [31:42<00:00, 522.87it/s]\n",
      "EDMD: 100%|██████████| 994999/994999 [41:17<00:00, 401.68it/s]\n",
      "EDMD: 100%|██████████| 994999/994999 [53:58<00:00, 307.20it/s] \n",
      "EDMD: 100%|██████████| 994999/994999 [1:09:28<00:00, 238.68it/s]\n"
     ]
    }
   ],
   "source": [
    "degrees = [11,12,13,14,15]\n",
    "flight_times = [1]\n",
    "\n",
    "list_degree = []\n",
    "for degree in degrees:\n",
    "    list_ftime = []\n",
    "    for f_time in flight_times:\n",
    "        EDMD_SETTINGS = get_edmd_settings()\n",
    "        EDMD_SETTINGS.degree = degree\n",
    "        EDMD_SETTINGS.flight_time = f_time\n",
    "        edmd = EDMD_CHEB(EDMD_SETTINGS)\n",
    "        K = edmd.perform_edmd_chebyshev(scaled_data)\n",
    "        list_ftime.append(edmd)\n",
    "    list_degree.append(list_ftime)\n"
   ]
  },
  {
   "cell_type": "code",
   "execution_count": 5,
   "metadata": {},
   "outputs": [],
   "source": [
    "import pickle\n",
    "with open(\"edmd_objects_low.pkl\", \"wb\") as f:\n",
    "    pickle.dump(list_degree, f)\n",
    "\n",
    "lorenz.trajectory = None\n",
    "with open(\"lorenz_low.pkl\",\"wb\") as f:\n",
    "    pickle.dump(lorenz,f)"
   ]
  },
  {
   "cell_type": "code",
   "execution_count": null,
   "metadata": {},
   "outputs": [],
   "source": [
    "with open(\"edmd_objects.pkl\", \"rb\") as f:\n",
    "    new_objects = pickle.load(f)"
   ]
  },
  {
   "cell_type": "code",
   "execution_count": null,
   "metadata": {},
   "outputs": [],
   "source": [
    "new_objects[0][0].flight_time"
   ]
  },
  {
   "cell_type": "code",
   "execution_count": null,
   "metadata": {},
   "outputs": [],
   "source": [
    "fig , ax = plt.subplots()\n",
    "for i, degree in enumerate(degrees):\n",
    "    for j,flight_time in enumerate(flight_times):\n",
    "        e = list_degree[i][j]\n",
    "        eigenvalues , eigenvectors = get_spectral_properties(e.K)\n",
    "        lambdas = np.log(eigenvalues) #/ ( lorenz.dt * lorenz.tau * e.flight_time)\n",
    "        # ax.plot(np.real(lambdas),np.imag(lambdas),'.',label=f\"degree = {degree}\",alpha=0.9)\n",
    "        thetas = np.linspace(0,2*np.pi)\n",
    "        ax.plot(np.cos(thetas),np.sin(thetas))\n",
    "        ax.set_aspect(\"equal\")\n",
    "        ax.plot(np.real(eigenvalues),np.imag(eigenvalues),'.',label=f\"degree = {degree}\",alpha=0.9)\n",
    "ax.legend()\n",
    "#ax.set_xlim(-1,1)"
   ]
  },
  {
   "cell_type": "code",
   "execution_count": null,
   "metadata": {},
   "outputs": [],
   "source": []
  },
  {
   "cell_type": "code",
   "execution_count": null,
   "metadata": {},
   "outputs": [],
   "source": [
    "eigenvalue = - 0.5 + 0.25j\n",
    "np.log(eigenvalue) #/ ( lorenz.dt * lorenz.tau * edmd.flight_time)"
   ]
  },
  {
   "cell_type": "code",
   "execution_count": null,
   "metadata": {},
   "outputs": [],
   "source": [
    "K = edmd.perform_edmd_chebyshev(scaled_data)"
   ]
  },
  {
   "cell_type": "code",
   "execution_count": null,
   "metadata": {},
   "outputs": [],
   "source": [
    "eigenvalues, eigenvectors = get_spectral_properties(K)"
   ]
  },
  {
   "cell_type": "code",
   "execution_count": null,
   "metadata": {},
   "outputs": [],
   "source": [
    "fig, ax = plt.subplots()\n",
    "thetas = np.linspace(0,2*np.pi)\n",
    "ax.plot(np.real(eigenvalues),np.imag(eigenvalues),'.')\n",
    "ax.plot(np.cos(thetas),np.sin(thetas))\n",
    "ax.set_aspect(\"equal\")"
   ]
  },
  {
   "cell_type": "code",
   "execution_count": null,
   "metadata": {},
   "outputs": [],
   "source": [
    "lambdas = np.log(eigenvalues) / ( lorenz.dt * lorenz.tau * edmd.flight_time)"
   ]
  },
  {
   "cell_type": "code",
   "execution_count": null,
   "metadata": {},
   "outputs": [],
   "source": [
    "# scaled_data, data_min, data_max = normalise_data_chebyshev(X)\n",
    "# phi0 = [get_koopman_eigenfunction(eigenvectors[0],indices,x) for x in scaled_data[:5000,:]] "
   ]
  },
  {
   "cell_type": "code",
   "execution_count": null,
   "metadata": {},
   "outputs": [],
   "source": [
    "Phi = edmd.evaluate_koopman_eigenfunctions_batch(scaled_data,eigenvectors[:,10])"
   ]
  },
  {
   "cell_type": "code",
   "execution_count": null,
   "metadata": {},
   "outputs": [],
   "source": []
  }
 ],
 "metadata": {
  "kernelspec": {
   "display_name": "base",
   "language": "python",
   "name": "python3"
  },
  "language_info": {
   "codemirror_mode": {
    "name": "ipython",
    "version": 3
   },
   "file_extension": ".py",
   "mimetype": "text/x-python",
   "name": "python",
   "nbconvert_exporter": "python",
   "pygments_lexer": "ipython3",
   "version": "3.10.13"
  }
 },
 "nbformat": 4,
 "nbformat_minor": 2
}
