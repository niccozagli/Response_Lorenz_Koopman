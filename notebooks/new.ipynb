{
 "cells": [
  {
   "cell_type": "code",

   "execution_count": null,
   "metadata": {},
   "outputs": [],
   "source": [
    "from LorenzEDMD.EDMD.EDMD import EDMD_CHEB\n",
    "from typing import List, Tuple\n",
    "from matplotlib import pyplot as plt\n",
    "import numpy as np\n",
    "import pickle\n",
    "from LorenzEDMD.utils.data_processing import (\n",
    "    normalise_data_chebyshev, \n",
    "    get_acf,\n",
    "    Koopman_correlation_function,\n",
    "    )\n",
    "from LorenzEDMD.dynamical_system.Lorenz import lorenz63\n",
    "from LorenzEDMD.EDMD.EDMD import TSVD, Projection_Koopman_Space\n",
    "import matplotlib\n",
    "import plotly.graph_objects as go\n",
    "from tqdm import tqdm\n",
    "from LorenzEDMD.utils.paths import get_data_folder_path\n",
    "\n",
    "matplotlib.rcParams.update({\n",
    "    \"text.usetex\": True,  # Use LaTeX to render text\n",
    "    \"font.family\": \"serif\",  # Use serif font (default in LaTeX)\n",
    "    \"text.latex.preamble\": r\"\\usepackage{amsmath}\"  # Optional: better math support\n",
    "})"
   ]
  },
  {
   "cell_type": "code",
   "execution_count": null,
   "metadata": {},
   "outputs": [],
   "source": [
    "data_path = get_data_folder_path()\n",
    "f_name = \"edmd_smalldt.pkl\"#\"edmd_prova.pkl\"\n",
    "\n",
    "with open(data_path / f_name,\"rb\") as f:\n",
    "    results = pickle.load(f)\n",
    "\n",
    "EDMDS : List[List[EDMD_CHEB]] = results[\"edmd results\"]\n",
    "lorenz : lorenz63 = results[\"lorenz settings\"] \n",
    "\n",
    "degrees = [x[0].degree for x in EDMDS]\n",
    "flight_times = [x.flight_time for x in EDMDS[0]]"
   ]
  },
  {
   "cell_type": "markdown",
   "metadata": {},
   "source": [
    "#### Fix a degree, regularise and get spectral properties"
   ]
  },
  {
   "cell_type": "code",
   "execution_count": null,
   "metadata": {},
   "outputs": [],
   "source": [
    "degree_number = -3\n",
    "degree = degrees[degree_number] \n",
    "edmd_flight_times = EDMDS[degree_number]\n",
    "edmd : EDMD_CHEB = edmd_flight_times[0] \n",
    "print(degree)"
   ]
  },
  {
   "cell_type": "code",
   "execution_count": null,
   "metadata": {},
   "outputs": [],
   "source": [
    "# Regularisation with TSVDS\n",
    "tsvd_regulariser = TSVD(rel_threshold=1e-5)\n",
    "Kreduced = tsvd_regulariser.decompose(edmd)\n",
    "\n",
    "# Get spectral properties\n",
    "tsvd_regulariser.get_spectral_properties()\n",
    "tsvd_regulariser.find_continuous_time_eigenvalues(lorenz_model=lorenz,edmd=edmd)"
   ]
  },
  {
   "cell_type": "markdown",
   "metadata": {},
   "source": [
    "#### Evaluate correlation functions for Koopman Eigenfunctions"
   ]
  },
  {
   "cell_type": "code",
   "execution_count": null,
   "metadata": {},
   "outputs": [],
   "source": [
    "lorenz_cf_traj = lorenz63()\n",
    "lorenz_cf_traj.noise = lorenz.noise\n",
    "lorenz_cf_traj.tau = 10\n",
    "lorenz_cf_traj.t_span = (0,10000)\n",
    "t, X = lorenz_cf_traj.integrate_EM()\n",
    "scaled, data_min,data_max = normalise_data_chebyshev(X)"
   ]
  },
  {
   "cell_type": "markdown",
   "metadata": {},
   "source": [
    "### Correlation Functions of Koopman Eigenfunctions"
   ]
  },
  {
   "cell_type": "code",
   "execution_count": null,
   "metadata": {},
   "outputs": [],
   "source": [
    "PHI_TRAJ = edmd.evaluate_koopman_eigenfunctions_reduced(scaled,tsvd_regulariser)"
   ]
  },
  {
   "cell_type": "code",
   "execution_count": null,
   "metadata": {},
   "outputs": [],
   "source": [
    "numbers = [1,3,4,6,8]\n",
    "nlags = 1500\n",
    "Dt = lorenz_cf_traj.dt * lorenz_cf_traj.tau * edmd.flight_time"
   ]
  },
  {
   "cell_type": "code",
   "execution_count": null,
   "metadata": {},
   "outputs": [],
   "source": [
    "fig , ax = plt.subplots(len(numbers),sharex=True)\n",
    "\n",
    "for i,number in enumerate(numbers):\n",
    "    lags, cf = get_acf(PHI_TRAJ[:,number], nlags = nlags,Dt=Dt)\n",
    "    cf_th = np.real(np.exp(tsvd_regulariser.lambdas[number]*lags))\n",
    "    ax[i].plot(lags,cf/cf[0])\n",
    "    ax[i].plot(lags,cf_th /cf_th[0] )\n",
    "    ax[i].set_xlim(0,14)\n",
    "    \n",
    "    ax[i].set_ylim(-1,1)\n",
    "    if i ==1 :\n",
    "        ax[i].set_ylim(-0.1,1)\n",
    "    ax[i].set_ylabel(fr\"$C_{{ \\varphi_{number} }}$\",size=16)\n",
    "ax[-1].set_xlabel(\"$t$\",size=16)    "
   ]
  },
  {
   "cell_type": "markdown",
   "metadata": {},
   "source": [
    "### Correlation functions of observables"
   ]
  },
  {
   "cell_type": "code",
   "execution_count": null,
   "metadata": {},
   "outputs": [],
   "source": [
    "### Decomposition of observables on dictionary: exact decomposition\n",
    "decompositions = edmd.get_decomposition_observables()\n",
    "projections_dictionary = decompositions[\"z\"]\n",
    "\n",
    "### Decomposition on the svd basis\n",
    "projections_reduced = tsvd_regulariser.project_reduced_space(projections_dictionary)\n",
    "\n",
    "### Decomposition on the selected Koopman eigenfunctions\n",
    "koopman_space = Projection_Koopman_Space(threshold_lambda=-2)\n",
    "koopman_space.set_subspace(tsvd_regulariser)\n",
    "\n",
    "projections_koopman = koopman_space.project_to_koopman_space(projections_reduced)\n",
    "\n",
    "# Reconstruct the correlation function\n",
    "K_corr = koopman_space.reconstruct_correlation_function(projections_koopman,projections_koopman)"
   ]
  },
  {
   "cell_type": "code",
   "execution_count": null,
   "metadata": {},
   "outputs": [],
   "source": [
    "# Numerical correlation function\n",
    "x, y, z = scaled[:,0], scaled[:,1] ,scaled[:,2]\n",
    "\n",
    "obs = z\n",
    "lags, cf = get_acf(obs, nlags = nlags,Dt=Dt)\n",
    "cf_koop = np.asarray([K_corr(lag) for lag in lags])\n",
    "\n",
    "fig, ax = plt.subplots()\n",
    "ax.plot(lags,cf)\n",
    "ax.plot(lags,np.real(cf_koop))"
   ]
  },
  {
   "cell_type": "markdown",
   "metadata": {},
   "source": [
    "### Response Theory"
   ]
  },
  {
   "cell_type": "code",
   "execution_count": null,
   "metadata": {},
   "outputs": [],
   "source": [
    "### From time series\n",
    "lorenz_cf_traj = lorenz63()\n",
    "lorenz_cf_traj.noise = lorenz.noise\n",
    "lorenz_cf_traj.tau = 100\n",
    "lorenz_cf_traj.t_span = (0,10000)\n",
    "t, X = lorenz_cf_traj.integrate_EM()\n",
    "scaled, data_min,data_max = normalise_data_chebyshev(X)\n",
    "\n",
    "xmax , ymax, zmax = data_max\n",
    "xmin, ymin, zmin = data_min\n",
    "scale = (zmax - zmin) / 2 \n",
    "\n",
    "scale = {\n",
    "    \"x\" : (xmax - xmin) / 2 , \n",
    "    \"y\" : (ymax - ymin) / 2,\n",
    "    \"z\" : (zmax- zmin) / 2,\n",
    "    \"x^2\" : ( (xmax - xmin) / 2 )**2,\n",
    "    \"y^2\" : ((ymax - ymin) / 2)**2,\n",
    "    \"z^2\" : ((zmax- zmin) / 2) **2,\n",
    "    \"xy\" : (xmax - xmin) / 2 * (ymax - ymin) / 2\n",
    "}"
   ]
  },
  {
   "cell_type": "code",
   "execution_count": null,
   "metadata": {},
   "outputs": [],
   "source": [
    "batch_size = 100_000\n",
    "n_total = scaled.shape[0]\n",
    "range_batches = range(0, n_total, batch_size)\n",
    "n_batches = len(range_batches)\n",
    "\n",
    "# Optional: get output shape from one batch\n",
    "example = edmd.evaluate_dictionary_batch(scaled[:1, :])\n",
    "avgs = np.zeros(example.shape[1])\n",
    "\n",
    "for i in tqdm(range_batches):\n",
    "    batch = scaled[i:min(i + batch_size, n_total), :]\n",
    "    Psi_trajectory = edmd.evaluate_dictionary_batch(batch)\n",
    "    x_traj = batch[:, 0]\n",
    "    avgs += np.mean(x_traj[:, None] * Psi_trajectory, axis=0)\n",
    "\n",
    "avgs /= n_batches\n"
   ]
  },
  {
   "cell_type": "code",
   "execution_count": null,
   "metadata": {},
   "outputs": [],
   "source": [
    "# Working in full space\n",
    "Ay = edmd.build_derivative_matrix(direction=1)\n",
    "scalar_product_Gamma = Ay.T @ avgs\n",
    "Gamma_projections = (tsvd_regulariser.Ur @ np.diag( 1 / (tsvd_regulariser.Sr + 0.01 )) @ tsvd_regulariser.Ur.T  ) @ scalar_product_Gamma\n",
    "# SVD\n",
    "Gamma_projections_reduced = tsvd_regulariser.project_reduced_space(Gamma_projections)\n",
    "\n",
    "### Decomposition on the selected Koopman eigenfunctions\n",
    "koopman_space = Projection_Koopman_Space(threshold_lambda=-100)\n",
    "koopman_space.set_subspace(tsvd_regulariser)\n",
    "Gamma_projections_koopman = koopman_space.project_to_koopman_space(Gamma_projections_reduced)\n",
    "\n",
    "projections_koopman = koopman_space.project_to_koopman_space(projections_reduced)\n",
    "# Reconstruct \n",
    "G_koop = koopman_space.reconstruct_correlation_function(coefficients_f=projections_koopman,coefficients_g=Gamma_projections_koopman)\n",
    "Green_Function_Koopman = np.array([G_koop(lag) for lag in lags])"
   ]
  },
  {
   "cell_type": "code",
   "execution_count": null,
   "metadata": {},
   "outputs": [],
   "source": [
    "fig, ax = plt.subplots()\n",
    "ax.plot(lags,np.real(Green_Function_Koopman)*scale[\"z\"])"
   ]
  },
  {
   "cell_type": "code",
   "execution_count": null,
   "metadata": {},
   "outputs": [],
   "source": [
    "f_name = \"response_cluster.pkl\"\n",
    "with open(data_path/f_name,\"rb\") as f:\n",
    "    response = pickle.load(f)\n",
    "\n",
    "RP = response[\"Positive Response\"]\n",
    "RM = response[\"Negative Response\"]\n",
    "amplitudes = response[\"Amplitudes\"]\n",
    "\n",
    "Gs = []\n",
    "for rp, rm, eps in zip(RP,RM,amplitudes):\n",
    "    G = (rp -rm) / (2*eps)\n",
    "    Gs.append(G)\n",
    "# response[\"Positive Response\"]\n",
    "\n",
    "observable_index = {\n",
    "    \"x\" : 0,\n",
    "    \"y\" : 1,\n",
    "    \"z\" : 2,\n",
    "    \"x^2\" : 3,\n",
    "    \"y^2\" : 4,\n",
    "    \"z^2\" : 5\n",
    "}\n",
    "\n",
    "tspan = response[\"Response Settings\"].t_span \n",
    "t = np.arange(tspan[0],tspan[-1],response[\"Response Settings\"].dt )\n",
    "tresp = t[::response[\"Response Settings\"].tau]\n",
    "\n",
    "G = np.zeros(Gs[0].shape)\n",
    "for g in Gs:\n",
    "    G += g / len(Gs)"
   ]
  },
  {
   "cell_type": "code",
   "execution_count": null,
   "metadata": {},
   "outputs": [],
   "source": [
    "lambdas_good,G_koop_n, fn = get_koopman_coefficients(decompositions[\"z\"])\n",
    "\n",
    "Gkoop = lambda t: Koopman_correlation_function(t,G_koop_n,fn_z,koopman_Gamma_2,lambdas_good )\n",
    "Gkoop = np.array( [np.real( Gkoop(lag) ) for lag in lags] )\n",
    "GreenKoopPhysicalSpace = Gkoop*scale[\"z\"]\n",
    "plt.plot(tresp,G[:,observable_index[\"z\"]],label=\"Numerics\")\n",
    "plt.plot(lags[1:],GreenKoopPhysicalSpace[1:], label=\"Koopman Reconstruction\") \n",
    "plt.xlim(-1,15)\n",
    "plt.grid('--',alpha=0.2)\n",
    "plt.xlabel(\"$t$\",size=18)\n",
    "plt.ylabel(\"$G_z(t)$\",size=18)\n",
    "plt.legend()\n",
    "#plt.xlim(-1,1)\n",
    "#plt.savefig(\"Koopman_Reconstruction_Green_Function_18.png\",dpi=500)\n"
   ]
  },
  {
   "cell_type": "code",
   "execution_count": null,
   "metadata": {},
   "outputs": [],
   "source": [
    "from scipy.io import savemat\n",
    "\n",
    "Data = {\n",
    "    't_response_numerical': tresp,\n",
    "    'Green_function_numerical' : G[:,observable_index[\"z\"]],\n",
    "    't_response_koopman' : lags[1:],\n",
    "    'Green_function_koopman ' : GreenKoopPhysicalSpace[1:]\n",
    "}\n",
    "\n",
    "savemat('Response_Lorenz_Z.mat',Data)\n"
   ]
  },
  {
   "cell_type": "code",
   "execution_count": null,
   "metadata": {},
   "outputs": [],
   "source": [
    "data_path = get_data_folder_path()\n",
    "fname = 'Green_Function_Koopman_Z_porcodio.txt'\n",
    "np.savetxt(data_path/fname,GreenKoopPhysicalSpace[1:])"
   ]
  },
  {
   "cell_type": "code",
   "execution_count": null,
   "metadata": {},
   "outputs": [],
   "source": [
    "lambdas_good,G_koop_n, fn = get_koopman_coefficients(decompositions[\"z\"])\n",
    "\n",
    "Gkoop = lambda t: Koopman_correlation_function(t,G_koop_n,fn,koopman_Gamma_2,lambdas_good )\n",
    "Gkoop = np.array( [np.real( Gkoop(lag) ) for lag in lags] )\n",
    "plt.plot(tresp,G[:,observable_index[\"z\"]],label=\"Numerics\")\n",
    "plt.plot(lags,Gkoop*scale[\"z\"], label=\"Koopman Reconstruction\") \n",
    "plt.xlim(-1,15)\n",
    "plt.grid('--',alpha=0.2)\n",
    "plt.xlabel(\"$t$\",size=18)\n",
    "plt.ylabel(\"$G_z(t)$\",size=18)\n",
    "plt.legend()\n",
    "#plt.xlim(-1,1)\n",
    "#plt.savefig(\"Koopman_Reconstruction_Green_Function_18.png\",dpi=500)"
   ]
  },
  {
   "cell_type": "code",
   "execution_count": null,
   "metadata": {},
   "outputs": [],
   "source": []
  }
 ],
 "metadata": {
  "kernelspec": {
   "display_name": ".venv",
   "language": "python",
   "name": "python3"
  },
  "language_info": {
   "codemirror_mode": {
    "name": "ipython",
    "version": 3
   },
   "file_extension": ".py",
   "mimetype": "text/x-python",
   "name": "python",
   "nbconvert_exporter": "python",
   "pygments_lexer": "ipython3",
   "version": "3.10.13"
  }
 },
 "nbformat": 4,
 "nbformat_minor": 2
}
