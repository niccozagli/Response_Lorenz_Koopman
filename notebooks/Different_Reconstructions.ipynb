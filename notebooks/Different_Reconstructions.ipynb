{
 "cells": [
  {
   "cell_type": "code",
   "execution_count": 8,
   "metadata": {},
   "outputs": [],
   "source": [
    "from LorenzEDMD.EDMD.EDMD import EDMD_CHEB\n",
    "from typing import List, Tuple\n",
    "from matplotlib import pyplot as plt\n",
    "import numpy as np\n",
    "import pickle\n",
    "from LorenzEDMD.utils.data_processing import (\n",
    "    normalise_data_chebyshev, \n",
    "    get_acf,\n",
    "    Koopman_correlation_function,\n",
    "    )\n",
    "from LorenzEDMD.dynamical_system.Lorenz import lorenz63\n",
    "from LorenzEDMD.EDMD.EDMD import TSVD\n",
    "import matplotlib\n",
    "import plotly.graph_objects as go\n",
    "from tqdm import tqdm\n",
    "from LorenzEDMD.utils.paths import get_data_folder_path\n",
    "\n",
    "matplotlib.rcParams.update({\n",
    "    \"text.usetex\": True,  # Use LaTeX to render text\n",
    "    \"font.family\": \"serif\",  # Use serif font (default in LaTeX)\n",
    "    \"text.latex.preamble\": r\"\\usepackage{amsmath}\"  # Optional: better math support\n",
    "})"
   ]
  },
  {
   "cell_type": "markdown",
   "metadata": {},
   "source": [
    "### Load EDMD data"
   ]
  },
  {
   "cell_type": "code",
   "execution_count": 9,
   "metadata": {},
   "outputs": [],
   "source": [
    "data_path = get_data_folder_path()\n",
    "f_name = \"edmd_smalldt.pkl\"#\"edmd_prova.pkl\"\n",
    "\n",
    "with open(data_path / f_name,\"rb\") as f:\n",
    "    results = pickle.load(f)\n",
    "\n",
    "EDMDS : List[List[EDMD_CHEB]] = results[\"edmd results\"]\n",
    "lorenz : lorenz63 = results[\"lorenz settings\"] \n",
    "\n",
    "degrees = [x[0].degree for x in EDMDS]\n",
    "flight_times = [x.flight_time for x in EDMDS[0]]"
   ]
  },
  {
   "cell_type": "code",
   "execution_count": 17,
   "metadata": {},
   "outputs": [
    {
     "data": {
      "text/plain": [
       "560"
      ]
     },
     "execution_count": 17,
     "metadata": {},
     "output_type": "execute_result"
    }
   ],
   "source": [
    "len( EDMDS[0][0].indices )"
   ]
  },
  {
   "cell_type": "code",
   "execution_count": 19,
   "metadata": {},
   "outputs": [
    {
     "data": {
      "text/plain": [
       "{13: 560, 14: 680, 15: 816, 16: 969, 17: 1140, 18: 1330, 19: 1540, 20: 1771}"
      ]
     },
     "execution_count": 19,
     "metadata": {},
     "output_type": "execute_result"
    }
   ],
   "source": [
    "dictionary = {}\n",
    "for x in EDMDS:\n",
    "    dictionary[x[0].degree] = len(x[0].indices)\n",
    "dictionary"
   ]
  },
  {
   "cell_type": "markdown",
   "metadata": {},
   "source": [
    "### Get the data for the response"
   ]
  },
  {
   "cell_type": "code",
   "execution_count": 7,
   "metadata": {},
   "outputs": [
    {
     "name": "stderr",
     "output_type": "stream",
     "text": [
      "100%|██████████| 50000000/50000000 [07:26<00:00, 111869.48it/s]\n"
     ]
    }
   ],
   "source": [
    "### From time series\n",
    "lorenz_cf_traj = lorenz63()\n",
    "lorenz_cf_traj.noise = lorenz.noise\n",
    "lorenz_cf_traj.tau = 10\n",
    "lorenz_cf_traj.t_span = (0,50000)\n",
    "t, X = lorenz_cf_traj.integrate_EM()\n",
    "scaled, data_min,data_max = normalise_data_chebyshev(X)\n",
    "\n",
    "\n",
    "xmax , ymax, zmax = data_max\n",
    "xmin, ymin, zmin = data_min\n",
    "scale = (zmax - zmin) / 2 \n",
    "\n",
    "scale = {\n",
    "    \"x\" : (xmax - xmin) / 2 , \n",
    "    \"y\" : (ymax - ymin) / 2,\n",
    "    \"z\" : (zmax- zmin) / 2,\n",
    "    \"x^2\" : ( (xmax - xmin) / 2 )**2,\n",
    "    \"y^2\" : ((ymax - ymin) / 2)**2,\n",
    "    \"z^2\" : ((zmax- zmin) / 2) **2,\n",
    "    \"xy\" : (xmax - xmin) / 2 * (ymax - ymin) / 2\n",
    "}"
   ]
  },
  {
   "cell_type": "markdown",
   "metadata": {},
   "source": [
    "#### Now loop over different degrees"
   ]
  },
  {
   "cell_type": "code",
   "execution_count": 11,
   "metadata": {},
   "outputs": [
    {
     "name": "stderr",
     "output_type": "stream",
     "text": [
      "100%|██████████| 50/50 [00:42<00:00,  1.17it/s]\n",
      "100%|██████████| 50/50 [00:52<00:00,  1.05s/it]\n",
      "100%|██████████| 50/50 [01:04<00:00,  1.28s/it]\n",
      "100%|██████████| 50/50 [01:16<00:00,  1.54s/it]\n",
      "100%|██████████| 50/50 [01:31<00:00,  1.83s/it]\n",
      "100%|██████████| 50/50 [01:47<00:00,  2.16s/it]\n",
      "100%|██████████| 50/50 [02:07<00:00,  2.55s/it]\n",
      "100%|██████████| 50/50 [02:28<00:00,  2.98s/it]\n"
     ]
    }
   ],
   "source": [
    "eig_to_keep = 50 ; tau_threshold = -1.5 \n",
    "spectrum = [] ; GreenFunctions = []\n",
    "\n",
    "for degree_number,degree in enumerate(degrees):\n",
    "    edmd_flight_times = EDMDS[degree_number]\n",
    "    edmd : EDMD_CHEB = edmd_flight_times[0] \n",
    "\n",
    "    # Regularisation with TSVDS\n",
    "    tsvd_regulariser = TSVD(rel_threshold=1e-5)\n",
    "    Kreduced = tsvd_regulariser.decompose(edmd)\n",
    "\n",
    "    # Get spectral properties\n",
    "    tsvd_regulariser.get_spectral_properties()\n",
    "    lambdas = np.log(tsvd_regulariser.eigenvalues) / ( lorenz.dt * lorenz.tau * edmd.flight_time)\n",
    "\n",
    "    # Get decomposition of observables\n",
    "    decompositions = edmd.get_decomposition_observables()\n",
    "    projections_dictionary = decompositions[\"z\"]\n",
    "\n",
    "    # Evaluate the moments on the trajectory\n",
    "    batch_size = 100_000\n",
    "    n_total = scaled.shape[0]\n",
    "    range_batches = range(0, n_total, batch_size)\n",
    "    n_batches = len(range_batches)\n",
    "\n",
    "    # Optional: get output shape from one batch\n",
    "    example = edmd.evaluate_dictionary_batch(scaled[:1, :])\n",
    "    avgs = np.zeros(example.shape[1])\n",
    "\n",
    "    for i in tqdm(range_batches):\n",
    "        batch = scaled[i:min(i + batch_size, n_total), :]\n",
    "        Psi_trajectory = edmd.evaluate_dictionary_batch(batch)\n",
    "        x_traj = batch[:, 0]\n",
    "        avgs += np.mean(x_traj[:, None] * Psi_trajectory, axis=0)\n",
    "\n",
    "    avgs /= n_batches\n",
    "\n",
    "    # Scalar product in SVD space\n",
    "    Gr = np.diag(tsvd_regulariser.Sr)\n",
    "    projections_reduced = tsvd_regulariser.Ur.T @ projections_dictionary\n",
    "\n",
    "\n",
    "    # Thresholding on a subset of modes\n",
    "    \n",
    "    indx = np.where(np.real(lambdas) > tau_threshold)[0] \n",
    "    lambdas_good = lambdas[indx]\n",
    "\n",
    "    # Projection onto the subspace spanned by the leading n selected modes\n",
    "    Vn = tsvd_regulariser.reduced_right_eigvecs[:,indx]\n",
    "    G_koop_n = Vn.T.conj() @ Gr @ Vn\n",
    "    project_to_koopman_space = np.linalg.pinv(G_koop_n) @ Vn.conj().T @ Gr\n",
    "    fn =  project_to_koopman_space @ projections_reduced\n",
    "\n",
    "    # Working just in reduced space\n",
    "    Ay = edmd.build_derivative_matrix(direction=1)\n",
    "    reduced_der_operator = tsvd_regulariser.Ur.T @ Ay.T @ tsvd_regulariser.Ur\n",
    "    reduced_delta = tsvd_regulariser.Ur.T @ avgs\n",
    "    reduced_Gamma_2 = np.diag( 1 / (tsvd_regulariser.Sr + 0.001 )) @ reduced_der_operator @ reduced_delta\n",
    "    koopman_Gamma_2 = project_to_koopman_space @ reduced_Gamma_2\n",
    "\n",
    "    Gkoop = lambda t: Koopman_correlation_function(t,G_koop_n,fn,koopman_Gamma_2,lambdas_good )\n",
    "\n",
    "    nlags = 1500\n",
    "    Dt = lorenz_cf_traj.dt * lorenz_cf_traj.tau * edmd.flight_time\n",
    "    lags = np.linspace(0, nlags * Dt, nlags + 1)\n",
    "    Gkoop = np.array( [np.real( Gkoop(lag) ) for lag in lags] )\n",
    "\n",
    "    GreenKoopPhysicalSpace = Gkoop*scale[\"z\"]\n",
    "\n",
    "    spectrum.append(lambdas[:eig_to_keep])\n",
    "    GreenFunctions.append(GreenKoopPhysicalSpace)"
   ]
  },
  {
   "cell_type": "code",
   "execution_count": 57,
   "metadata": {},
   "outputs": [
    {
     "data": {
      "text/plain": [
       "8"
      ]
     },
     "execution_count": 57,
     "metadata": {},
     "output_type": "execute_result"
    }
   ],
   "source": [
    "len( degrees )"
   ]
  },
  {
   "cell_type": "code",
   "execution_count": 50,
   "metadata": {},
   "outputs": [],
   "source": [
    "new_G = [x[1:] for x in GreenFunctions]\n",
    "\n",
    "dictionary = {\n",
    "    'spectrum' : np.stack(spectrum,axis=0),\n",
    "    'degrees' : degrees,\n",
    "    'GreenFunctions' : np.stack(new_G,axis=0),\n",
    "    't' : lags[1:]\n",
    "}"
   ]
  },
  {
   "cell_type": "code",
   "execution_count": 2,
   "metadata": {},
   "outputs": [
    {
     "ename": "NameError",
     "evalue": "name 'dictionary' is not defined",
     "output_type": "error",
     "traceback": [
      "\u001b[0;31m---------------------------------------------------------------------------\u001b[0m",
      "\u001b[0;31mNameError\u001b[0m                                 Traceback (most recent call last)",
      "Cell \u001b[0;32mIn[2], line 5\u001b[0m\n\u001b[1;32m      2\u001b[0m f_name \u001b[38;5;241m=\u001b[39m \u001b[38;5;124m\"\u001b[39m\u001b[38;5;124mreconstruction_multiple.pkl\u001b[39m\u001b[38;5;124m\"\u001b[39m\n\u001b[1;32m      4\u001b[0m \u001b[38;5;28;01mwith\u001b[39;00m \u001b[38;5;28mopen\u001b[39m(data_path \u001b[38;5;241m/\u001b[39m f_name, \u001b[38;5;124m\"\u001b[39m\u001b[38;5;124mwb\u001b[39m\u001b[38;5;124m\"\u001b[39m) \u001b[38;5;28;01mas\u001b[39;00m f:\n\u001b[0;32m----> 5\u001b[0m     pickle\u001b[38;5;241m.\u001b[39mdump(\u001b[43mdictionary\u001b[49m, f)\n",
      "\u001b[0;31mNameError\u001b[0m: name 'dictionary' is not defined"
     ]
    }
   ],
   "source": [
    "data_path = get_data_folder_path()\n",
    "f_name = \"reconstruction_multiple.pkl\"\n",
    "\n",
    "with open(data_path / f_name, \"wb\") as f:\n",
    "    pickle.dump(dictionary, f)"
   ]
  },
  {
   "cell_type": "code",
   "execution_count": 55,
   "metadata": {},
   "outputs": [],
   "source": [
    "from scipy.io import savemat\n",
    "data_path = get_data_folder_path()\n",
    "f_name = 'Response_Lorenz_Z_Multiple_Reconstruction.mat'\n",
    "\n",
    "with open(data_path / f_name, \"wb\") as f:\n",
    "    savemat(f,dictionary)"
   ]
  },
  {
   "cell_type": "code",
   "execution_count": 17,
   "metadata": {},
   "outputs": [],
   "source": [
    "f_name = \"response_cluster.pkl\"\n",
    "with open(data_path/f_name,\"rb\") as f:\n",
    "    response = pickle.load(f)\n",
    "\n",
    "RP = response[\"Positive Response\"]\n",
    "RM = response[\"Negative Response\"]\n",
    "amplitudes = response[\"Amplitudes\"]\n",
    "\n",
    "Gs = []\n",
    "for rp, rm, eps in zip(RP,RM,amplitudes):\n",
    "    G = (rp -rm) / (2*eps)\n",
    "    Gs.append(G)\n",
    "# response[\"Positive Response\"]\n",
    "\n",
    "observable_index = {\n",
    "    \"x\" : 0,\n",
    "    \"y\" : 1,\n",
    "    \"z\" : 2,\n",
    "    \"x^2\" : 3,\n",
    "    \"y^2\" : 4,\n",
    "    \"z^2\" : 5\n",
    "}\n",
    "\n",
    "tspan = response[\"Response Settings\"].t_span \n",
    "t = np.arange(tspan[0],tspan[-1],response[\"Response Settings\"].dt )\n",
    "tresp = t[::response[\"Response Settings\"].tau]\n",
    "\n",
    "G = np.zeros(Gs[0].shape)\n",
    "for g in Gs:\n",
    "    G += g / len(Gs)"
   ]
  },
  {
   "cell_type": "code",
   "execution_count": 23,
   "metadata": {},
   "outputs": [
    {
     "data": {
      "text/plain": [
       "(-1.0, 15.0)"
      ]
     },
     "execution_count": 23,
     "metadata": {},
     "output_type": "execute_result"
    },
    {
     "data": {
      "image/png": "[encoded data removed]",
      "text/plain": [
       "<Figure size 640x480 with 1 Axes>"
      ]
     },
     "metadata": {},
     "output_type": "display_data"
    }
   ],
   "source": [
    "plt.plot(tresp,G[:,2])\n",
    "plt.plot(lags,GreenFunctions[-1])\n",
    "plt.xlim(-1,15)"
   ]
  },
  {
   "cell_type": "code",
   "execution_count": 6,
   "metadata": {},
   "outputs": [
    {
     "ename": "EOFError",
     "evalue": "Ran out of input",
     "output_type": "error",
     "traceback": [
      "\u001b[0;31m---------------------------------------------------------------------------\u001b[0m",
      "\u001b[0;31mEOFError\u001b[0m                                  Traceback (most recent call last)",
      "Cell \u001b[0;32mIn[6], line 7\u001b[0m\n\u001b[1;32m      4\u001b[0m f_name \u001b[38;5;241m=\u001b[39m \u001b[38;5;124m\"\u001b[39m\u001b[38;5;124mreconstruction_multiple.pkl\u001b[39m\u001b[38;5;124m\"\u001b[39m\n\u001b[1;32m      6\u001b[0m \u001b[38;5;28;01mwith\u001b[39;00m \u001b[38;5;28mopen\u001b[39m(data_path \u001b[38;5;241m/\u001b[39m f_name, \u001b[38;5;124m\"\u001b[39m\u001b[38;5;124mrb\u001b[39m\u001b[38;5;124m\"\u001b[39m) \u001b[38;5;28;01mas\u001b[39;00m f:\n\u001b[0;32m----> 7\u001b[0m     data \u001b[38;5;241m=\u001b[39m \u001b[43mpickle\u001b[49m\u001b[38;5;241;43m.\u001b[39;49m\u001b[43mload\u001b[49m\u001b[43m(\u001b[49m\u001b[43mf\u001b[49m\u001b[43m)\u001b[49m\n",
      "\u001b[0;31mEOFError\u001b[0m: Ran out of input"
     ]
    }
   ],
   "source": [
    "import pickle\n",
    "\n",
    "data_path = get_data_folder_path()\n",
    "f_name = \"reconstruction_multiple.pkl\"\n",
    "\n",
    "with open(data_path / f_name, \"rb\") as f:\n",
    "    data = pickle.load(f)"
   ]
  },
  {
   "cell_type": "code",
   "execution_count": 7,
   "metadata": {},
   "outputs": [
    {
     "ename": "NameError",
     "evalue": "name 'EDMDS' is not defined",
     "output_type": "error",
     "traceback": [
      "\u001b[0;31m---------------------------------------------------------------------------\u001b[0m",
      "\u001b[0;31mNameError\u001b[0m                                 Traceback (most recent call last)",
      "Cell \u001b[0;32mIn[7], line 3\u001b[0m\n\u001b[1;32m      1\u001b[0m degrees \u001b[38;5;241m=\u001b[39m [\u001b[38;5;241m14\u001b[39m,\u001b[38;5;241m16\u001b[39m,\u001b[38;5;241m18\u001b[39m,\u001b[38;5;241m20\u001b[39m]\n\u001b[1;32m      2\u001b[0m \u001b[38;5;28;01mfor\u001b[39;00m degree_number,degree \u001b[38;5;129;01min\u001b[39;00m \u001b[38;5;28menumerate\u001b[39m(degrees):\n\u001b[0;32m----> 3\u001b[0m     edmd_flight_times \u001b[38;5;241m=\u001b[39m \u001b[43mEDMDS\u001b[49m[degree_number]\n\u001b[1;32m      4\u001b[0m     edmd : EDMD_CHEB \u001b[38;5;241m=\u001b[39m edmd_flight_times[\u001b[38;5;241m0\u001b[39m] \n\u001b[1;32m      5\u001b[0m     \u001b[38;5;28mprint\u001b[39m(edmd\u001b[38;5;241m.\u001b[39mdegree)\n",
      "\u001b[0;31mNameError\u001b[0m: name 'EDMDS' is not defined"
     ]
    }
   ],
   "source": [
    "degrees = [14,16,18,20]\n",
    "for degree_number,degree in enumerate(degrees):\n",
    "    edmd_flight_times = EDMDS[degree_number]\n",
    "    edmd : EDMD_CHEB = edmd_flight_times[0] \n",
    "    print(edmd.degree)"
   ]
  },
  {
   "cell_type": "code",
   "execution_count": null,
   "metadata": {},
   "outputs": [],
   "source": []
  }
 ],
 "metadata": {
  "kernelspec": {
   "display_name": ".venv",
   "language": "python",
   "name": "python3"
  },
  "language_info": {
   "codemirror_mode": {
    "name": "ipython",
    "version": 3
   },
   "file_extension": ".py",
   "mimetype": "text/x-python",
   "name": "python",
   "nbconvert_exporter": "python",
   "pygments_lexer": "ipython3",
   "version": "3.10.13"
  }
 },
 "nbformat": 4,
 "nbformat_minor": 2
}
